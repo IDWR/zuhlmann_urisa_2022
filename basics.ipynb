{
 "cells": [
  {
   "cell_type": "code",
   "execution_count": 13,
   "metadata": {},
   "outputs": [],
   "source": [
    "# 1) Path/to/projection/file.prj\n",
    "prj_file = os.path.join(user_git_dir, r'WGS_1984_Web_Mercator_Auxiliary_Sphere.prj')"
   ]
  },
  {
   "cell_type": "code",
   "execution_count": 14,
   "metadata": {},
   "outputs": [
    {
     "name": "stdout",
     "output_type": "stream",
     "text": [
      "GDB TARGET:  C:\\Users\\uhlmann\\Documents\\git_dload\\notebooks_tutorial\\four_corners_morels/four_corners_morels.gdb\n",
      "PRJ FILE:  C:\\Users\\uhlmann\\Documents\\git_dload\\notebooks_tutorial\\WGS_1984_Web_Mercator_Auxiliary_Sphere.prj\n",
      "DSET NAME:  agency\n"
     ]
    }
   ],
   "source": [
    "# 2) CREATE FEATURE DATASET\n",
    "# FYI - If existing dataset of the same name in same gdb, it (and data) will be replaced\n",
    "# note that gdb_target variable is the path/to/project/gdb (string) from urisa_p1 Notebook \n",
    "gdb = gdb_target\n",
    "dset_name = 'agency'\n",
    "arcpy.CreateFeatureDataset_management(gdb_target, dset_name, prj_file)\n",
    "fp_dset = os.path.join(gdb, dset_name)\n",
    "print('GDB TARGET: ', gdb_target)\n",
    "print('PRJ FILE: ', prj_file)\n",
    "print('DSET NAME: ', dset_name)"
   ]
  },
  {
   "cell_type": "code",
   "execution_count": 15,
   "metadata": {},
   "outputs": [
    {
     "name": "stdout",
     "output_type": "stream",
     "text": [
      "GDB TARGET:  C:\\Users\\uhlmann\\Documents\\git_dload\\notebooks_tutorial\\four_corners_morels/four_corners_morels.gdb\n",
      "PRJ FILE:  C:\\Users\\uhlmann\\Documents\\git_dload\\notebooks_tutorial\\WGS_1984_Web_Mercator_Auxiliary_Sphere.prj\n",
      "DSET NAME:  analysis\n"
     ]
    }
   ],
   "source": [
    "# 2) CREATE FEATURE DATASET\n",
    "# OR!  We could run cell 2) in for loop or run once, then change dset_name to 'analysis' and run again FYI\n",
    "gdb = gdb_target\n",
    "dset_name = 'analysis'\n",
    "arcpy.CreateFeatureDataset_management(gdb_target, dset_name, prj_file)\n",
    "fp_dset = os.path.join(gdb, dset_name)\n",
    "print('GDB TARGET: ', gdb_target)\n",
    "print('PRJ FILE: ', prj_file)\n",
    "print('DSET NAME: ', dset_name)"
   ]
  }
 ],
 "metadata": {
  "kernelspec": {
   "display_name": "ArcGISPro",
   "language": "Python",
   "name": "python3"
  },
  "language_info": {
   "file_extension": ".py",
   "name": "python",
   "version": "3"
  }
 },
 "nbformat": 4,
 "nbformat_minor": 2
}
