{
 "cells": [
  {
   "cell_type": "code",
   "execution_count": 10,
   "metadata": {},
   "outputs": [],
   "source": [
    "# 1) Path/to/projection/file.prj\n",
    "prj_file = os.path.join(git_dir_user, r'WGS_1984_Web_Mercator_Auxiliary_Sphere.prj')"
   ]
  },
  {
   "cell_type": "code",
   "execution_count": null,
   "metadata": {},
   "outputs": [],
   "source": [
    "# 2) CREATE FEATURE DATASET\n",
    "# FYI - If existing dataset of the same name in same gdb, it (and data) will be replaced\n",
    "# note that gdb_target variable is the path/to/project/gdb (string) from urisa_p1 Notebook \n",
    "gdb = gdb_target\n",
    "dset_name = 'agency'\n",
    "arcpy.CreateFeatureDataset_management(gdb_target, dset_name, prj_file)\n",
    "fp_dset = os.path.join(gdb, dset_name)\n",
    "print('GDB TARGET: ', gdb_target)\n",
    "print('PRJ FILE: ', prj_file)\n",
    "print('DSET NAME: ', dset_name)"
   ]
  },
  {
   "cell_type": "code",
   "execution_count": 13,
   "metadata": {},
   "outputs": [
    {
     "name": "stdout",
     "output_type": "stream",
     "text": [
      "GDB TARGET:  C:\\Users\\uhlmann\\Documents\\urisa_conference_2022\\data_maps\\urisa_presentation\\urisa_presentation.gdb\n",
      "PRJ FILE:  C:\\Users\\uhlmann\\Documents\\urisa_conference_2022\\data_maps\\prj_files\\WGS_1984_Web_Mercator_Auxiliary_Sphere.prj\n",
      "DSET NAME:  analysis\n"
     ]
    }
   ],
   "source": [
    "# 2) CREATE FEATURE DATASET\n",
    "# OR!  We could run cell 2) in for loop or run once, then change dset_name to 'analysis' and run again\n",
    "gdb = gdb_target\n",
    "dset_name = 'analysis'\n",
    "arcpy.CreateFeatureDataset_management(gdb_target, dset_name, prj_file)\n",
    "fp_dset = os.path.join(gdb, dset_name)\n",
    "print('GDB TARGET: ', gdb_target)\n",
    "print('PRJ FILE: ', prj_file)\n",
    "print('DSET NAME: ', dset_name)"
   ]
  },
  {
   "cell_type": "code",
   "execution_count": 6,
   "metadata": {},
   "outputs": [
    {
     "data": {
      "text/html": [
       "<div class='gpresult'><h2>Messages</h2><div id='messages' data-messages='[\"Start Time: Tuesday, October 18, 2022 11:08:10 AM\",\"Succeeded at Tuesday, October 18, 2022 11:08:10 AM (Elapsed Time: 0.19 seconds)\"]' data-show='true'><div id = 'default' /></div></div>"
      ],
      "text/plain": [
       "<Result 'C:\\\\Users\\\\uhlmann\\\\Documents\\\\urisa_conference_2022\\\\pandas_jupyter_urisa_2022\\\\github_data\\\\FH_Perimeter.shp'>"
      ]
     },
     "execution_count": 6,
     "metadata": {},
     "output_type": "execute_result"
    }
   ],
   "source": [
    "fp_out = r'C:\\Users\\uhlmann\\Documents\\urisa_conference_2022\\pandas_jupyter_urisa_2022\\github_data'\n",
    "arcpy.FeatureClassToFeatureClass_conversion('FH_Perimeter',fp_out, 'FH_Perimeter')"
   ]
  }
 ],
 "metadata": {
  "kernelspec": {
   "display_name": "ArcGISPro",
   "language": "Python",
   "name": "python3"
  },
  "language_info": {
   "file_extension": ".py",
   "name": "python",
   "version": "3"
  }
 },
 "nbformat": 4,
 "nbformat_minor": 2
}
