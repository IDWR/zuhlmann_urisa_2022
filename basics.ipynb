{
 "cells": [
  {
   "cell_type": "code",
   "execution_count": 64,
   "metadata": {},
   "outputs": [],
   "source": [
    "# 1 )Prj files\n",
    "prj_file = r'C:\\Users\\uhlmann\\Documents\\urisa_conference_2022\\data_maps\\prj_files\\WGS_1984_Web_Mercator_Auxiliary_Sphere.prj'"
   ]
  },
  {
   "cell_type": "code",
   "execution_count": 67,
   "metadata": {},
   "outputs": [
    {
     "name": "stdout",
     "output_type": "stream",
     "text": [
      "GDB TARGET:  C:\\Users\\uhlmann\\Documents\\urisa_conference_2022\\data_maps\\urisa_presentation\\urisa_presentation.gdb\n",
      "PRJ FILE:  C:\\Users\\uhlmann\\Documents\\urisa_conference_2022\\data_maps\\prj_files\\WGS_1984_Web_Mercator_Auxiliary_Sphere.prj\n",
      "DSET NAME:  agency\n"
     ]
    }
   ],
   "source": [
    "# 2) CREATE FEATURE DATASET\n",
    "# Note - don't run this if there is an existing dataset of the same name in same location or it will be replaced\n",
    "gdb = gdb_target\n",
    "dset_name = 'agency'\n",
    "arcpy.CreateFeatureDataset_management(gdb_target, dset_name, prj_file)\n",
    "fp_dset = os.path.join(gdb, dset_name)\n",
    "print('GDB TARGET: ', gdb_target)\n",
    "print('PRJ FILE: ', prj_file)\n",
    "print('DSET NAME: ', dset_name)"
   ]
  }
 ],
 "metadata": {
  "kernelspec": {
   "display_name": "ArcGISPro",
   "language": "Python",
   "name": "python3"
  },
  "language_info": {
   "file_extension": ".py",
   "name": "python",
   "version": "3"
  }
 },
 "nbformat": 4,
 "nbformat_minor": 2
}
