{
 "cells": [
  {
   "cell_type": "code",
   "execution_count": 59,
   "metadata": {},
   "outputs": [],
   "source": [
    "import os\n",
    "import copy\n",
    "import pandas as pd"
   ]
  },
  {
   "cell_type": "code",
   "execution_count": null,
   "metadata": {},
   "outputs": [],
   "source": [
    "# INitial features in TOC\n",
    "# 1) FH_Perimeter\n",
    "# 2) Roads\n",
    "# 3) Contours non-clipped\n",
    "# 4) original tif\n",
    "# 5) clipped tiff"
   ]
  },
  {
   "cell_type": "code",
   "execution_count": 84,
   "metadata": {},
   "outputs": [],
   "source": [
    "# 1) Load df\n",
    "# set path/to/data managment csv\n",
    "fp_csv = r'C:\\Users\\uhlmann\\Documents\\urisa_conference_2022\\data_maps\\urisa_data_inventory.csv'\n",
    "# read csv into Pandas dataframe\n",
    "df = pd.read_csv(fp_csv, index_col = 'ITEM')\n",
    "df"
   ]
  },
  {
   "cell_type": "code",
   "execution_count": 61,
   "metadata": {},
   "outputs": [],
   "source": [
    "# 2) Initial files and dictionary\n",
    "path_dict = {'urisa_presentation_gdb':r'C:\\Users\\uhlmann\\Documents\\urisa_conference_2022\\data_maps\\urisa_presentation\\urisa_presentation.gdb'}"
   ]
  },
  {
   "cell_type": "code",
   "execution_count": 69,
   "metadata": {},
   "outputs": [],
   "source": [
    "# 3) Variables for copy fc\n",
    "# copy feature from TOC (table of contents)\n",
    "feat_in = 'FH_Perimeter'\n",
    "index = 'four_corners_fire_perim'\n",
    "gdb_target_str = df.loc[index, 'MOVE_LOCATION']\n",
    "gdb_target = path_dict[gdb_target_str]\n",
    "dset_name = df.loc[index, 'MOVE_LOCATION_DSET']\n",
    "dir_target = os.path.join(gdb_target, dset_name)\n",
    "dir_target\n",
    "fname = copy.copy(index)"
   ]
  },
  {
   "cell_type": "code",
   "execution_count": null,
   "metadata": {},
   "outputs": [],
   "source": [
    "# 4) CREATE DATASETs - agency, analysis\n",
    "# Go to Basics notebook and create datasets using"
   ]
  },
  {
   "cell_type": "code",
   "execution_count": 70,
   "metadata": {},
   "outputs": [
    {
     "name": "stdout",
     "output_type": "stream",
     "text": [
      "FC TO COPY:  FH_Perimeter\n",
      "COPY LOCATION:  C:\\Users\\uhlmann\\Documents\\urisa_conference_2022\\data_maps\\urisa_presentation\\urisa_presentation.gdb\\agency\n",
      "FEATURE CLASS NAME OUT:  four_corners_fire_perim\n"
     ]
    },
    {
     "data": {
      "text/html": [
       "<div class='gpresult'><h2>Messages</h2><div id='messages' data-messages='[\"Start Time: Monday, October 3, 2022 5:02:03 PM\",\"Succeeded at Monday, October 3, 2022 5:02:04 PM (Elapsed Time: 0.75 seconds)\"]' data-show='true'><div id = 'default' /></div></div>"
      ],
      "text/plain": [
       "<Result 'C:\\\\Users\\\\uhlmann\\\\Documents\\\\urisa_conference_2022\\\\data_maps\\\\urisa_presentation\\\\urisa_presentation.gdb\\\\agency\\\\four_corners_fire_perim'>"
      ]
     },
     "execution_count": 70,
     "metadata": {},
     "output_type": "execute_result"
    }
   ],
   "source": [
    "# 5) Copy selected feature to Pro gdb\n",
    "# NOTE: select 4 corners fire from att table!!\n",
    "\n",
    "print('FC TO COPY: ', feat_in)\n",
    "print('COPY LOCATION: ', dir_target)\n",
    "print('FEATURE CLASS NAME OUT: ', fname)\n",
    "\n",
    "# # b) Once arguments are confirmed, uncomment and run\n",
    "# arcpy.FeatureClassToFeatureClass_conversion(feat_in, dir_target, fname)"
   ]
  },
  {
   "cell_type": "code",
   "execution_count": 71,
   "metadata": {},
   "outputs": [],
   "source": [
    "# 6) Set values to DataFrame\n",
    "# since we copied the fc to our project gdb, let's add the updated path to dataframe\n",
    "df.loc[index, 'DATA_LOCATION'] = os.path.join(dir_target, fname)"
   ]
  },
  {
   "cell_type": "code",
   "execution_count": 72,
   "metadata": {},
   "outputs": [],
   "source": [
    "# 7) Variables for copy fc\n",
    "# copy features from file path in DataFrame to pro project gdb\n",
    "index = 'RoadCore_FS'\n",
    "feat_in = df.loc[index,'DATA_LOCATION']\n",
    "gdb_target_str = df.loc[index, 'MOVE_LOCATION']\n",
    "gdb_target = path_dict[gdb_target_str]\n",
    "dset_name = df.loc[index, 'MOVE_LOCATION_DSET']\n",
    "dir_target = os.path.join(gdb_target, dset_name)\n",
    "dir_target\n",
    "fname = copy.copy(index)"
   ]
  },
  {
   "cell_type": "code",
   "execution_count": 74,
   "metadata": {},
   "outputs": [
    {
     "name": "stdout",
     "output_type": "stream",
     "text": [
      "FC TO COPY:  C:\\Users\\uhlmann\\Documents\\urisa_conference_2022\\data_maps\\data\\shp\\RoadCore_FS.shp\n",
      "COPY LOCATION:  C:\\Users\\uhlmann\\Documents\\urisa_conference_2022\\data_maps\\urisa_presentation\\urisa_presentation.gdb\\agency\n",
      "FEATURE CLASS NAME OUT:  RoadCore_FS\n"
     ]
    },
    {
     "data": {
      "text/html": [
       "<div class='gpresult'><h2>Messages</h2><div id='messages' data-messages='[\"Start Time: Monday, October 3, 2022 5:03:47 PM\",\"Succeeded at Monday, October 3, 2022 5:03:48 PM (Elapsed Time: 1.12 seconds)\"]' data-show='true'><div id = 'default' /></div></div>"
      ],
      "text/plain": [
       "<Result 'C:\\\\Users\\\\uhlmann\\\\Documents\\\\urisa_conference_2022\\\\data_maps\\\\urisa_presentation\\\\urisa_presentation.gdb\\\\agency\\\\RoadCore_FS'>"
      ]
     },
     "execution_count": 74,
     "metadata": {},
     "output_type": "execute_result"
    }
   ],
   "source": [
    "# 8) Copy roads feature class to Pro gdb\n",
    "print('FC TO COPY: ', feat_in)\n",
    "print('COPY LOCATION: ', dir_target)\n",
    "print('FEATURE CLASS NAME OUT: ', fname)\n",
    "\n",
    "# # b) Once arguments are confirmed, uncomment and run\n",
    "# arcpy.FeatureClassToFeatureClass_conversion(feat_in, dir_target, fname)"
   ]
  },
  {
   "cell_type": "code",
   "execution_count": 75,
   "metadata": {},
   "outputs": [],
   "source": [
    "# 9) Set values to DataFrame\n",
    "# save data location original to dataframe\n",
    "df.loc[index,'DATA_LOCATION_ORIGINAL'] = df.loc[index, 'DATA_LOCATION']\n",
    "# since we copied the fc to our project gdb, let's add the updated path to dataframe\n",
    "df.loc[index,'DATA_LOCATION'] = os.path.join(dir_target,fname)"
   ]
  },
  {
   "cell_type": "code",
   "execution_count": null,
   "metadata": {},
   "outputs": [],
   "source": [
    "# Internal presentation ntoes\n",
    "# a) add contours to TOC\n",
    "# b) create new dset - analysis"
   ]
  },
  {
   "cell_type": "code",
   "execution_count": 77,
   "metadata": {},
   "outputs": [
    {
     "name": "stdout",
     "output_type": "stream",
     "text": [
      "FILE PATH OUT:  C:\\Users\\uhlmann\\Documents\\urisa_conference_2022\\data_maps\\urisa_presentation\\urisa_presentation.gdb\\analysis\\contours_100m_4corners_clipped\n"
     ]
    }
   ],
   "source": [
    "# 10) Clip contour polygons to fire boundary\n",
    "fp_in = 'contours_100m_4corners'\n",
    "fp_clip = 'four_corners_fire_perim'\n",
    "index = 'contours_100m_4corners_clipped'\n",
    "fname = copy.copy(index)\n",
    "fp_out = os.path.join(gdb, 'analysis', fname)\n",
    "print('FILE PATH OUT: ', fp_out)\n",
    "\n",
    "# # b) Once arguments are confirmed, uncomment and run\n",
    "# arcpy.Clip_analysis(fp_in, fp_clip, fp_out)"
   ]
  },
  {
   "cell_type": "code",
   "execution_count": 78,
   "metadata": {},
   "outputs": [],
   "source": [
    "# 11) Set values to DataFrame\n",
    "df.loc[index,'DATA_LOCATION'] = fp_out\n",
    "\n",
    "# ADD DATA INFO\n",
    "df.loc[index, 'DATE'] = '20221004'\n",
    "df.loc[index, 'SOURCE'] = 'McMillen Jacobs'\n",
    "df.loc[index, 'ABSTRACT'] = 'Contours derived from the USGS National Elevation Dataset 1/3 arc' \\\n",
    "                            ' second n45w117 20220309.  DEM was smoothed with a gaussian filter' \\\n",
    "                            'prior to generating contours.  Contours at 100m elevation band interval.'"
   ]
  },
  {
   "cell_type": "code",
   "execution_count": 80,
   "metadata": {},
   "outputs": [
    {
     "data": {
      "text/plain": [
       "'Contours derived from the USGS National Elevation Dataset 1/3 arc second n45w117 20220309.  DEM was smoothed with a gaussian filterprior to generating contours.  Contours at 100m elevation band interval.'"
      ]
     },
     "execution_count": 80,
     "metadata": {},
     "output_type": "execute_result"
    }
   ],
   "source": [
    "# 12) Inspect dataframe prior to saving.\n",
    "df\n",
    "# df.loc[index, 'ABSTRACT']"
   ]
  },
  {
   "cell_type": "code",
   "execution_count": 83,
   "metadata": {},
   "outputs": [],
   "source": [
    "# 13) Save CSV --> a) Close CSV!!\n",
    "# make sure to close csv first or else Permission Error\n",
    "fp_csv\n",
    "# df.to_csv(fp_csv)"
   ]
  }
 ],
 "metadata": {
  "kernelspec": {
   "display_name": "ArcGISPro",
   "language": "Python",
   "name": "python3"
  },
  "language_info": {
   "file_extension": ".py",
   "name": "python",
   "version": "3"
  }
 },
 "nbformat": 4,
 "nbformat_minor": 2
}
