{
 "cells": [
  {
   "cell_type": "code",
   "execution_count": 2,
   "metadata": {},
   "outputs": [],
   "source": [
    "# Cell 1: Load Modules\n",
    "import os\n",
    "import copy\n",
    "# Note that pandas = pd\n",
    "import pandas as pd"
   ]
  },
  {
   "cell_type": "code",
   "execution_count": 2,
   "metadata": {},
   "outputs": [],
   "source": [
    "# Cell 2: Canvas\n",
    "# A) ADD basics to map\n",
    "# SHAPEFILES\n",
    "# Add below shapefiles to a new map - located in github_data dir\n",
    "#   1) FH_Perimeter\n",
    "#   2) contours_100m_4corners\n",
    "\n",
    "# ZOOM INTO FIRE\n",
    "# zoom into vicinity of Four Corners Fire by zooming into contours_100m_4corners\n",
    "\n",
    "# FORMAT symbology if you are feeling inspired\n",
    "# fire perimeter just lines, no fill\n",
    "# contours graduated"
   ]
  },
  {
   "cell_type": "code",
   "execution_count": 3,
   "metadata": {},
   "outputs": [],
   "source": [
    "# Cell 3: Paths\n",
    "# B) input path to your unzipped git directory\n",
    "user_git_dir = r'C:\\Users\\uhlmann\\Documents\\urisa_conference_2022\\notebooks_tutorial'"
   ]
  },
  {
   "cell_type": "code",
   "execution_count": 1,
   "metadata": {},
   "outputs": [],
   "source": [
    "# Cell 4: Load Pandas DataFrame\n",
    "# REPLACE below path/to/data/inventory.csv to location in your directory\n",
    "fp_csv = os.path.join(user_git_dir, r'four_corners_morels_inv.csv')\n",
    "# read csv into Pandas dataframe\n",
    "df = pd.read_csv(fp_csv, index_col = 'ITEM')\n",
    "# Print df to output - SEE!! pretty cool\n",
    "df"
   ]
  },
  {
   "cell_type": "code",
   "execution_count": 8,
   "metadata": {},
   "outputs": [
    {
     "data": {
      "text/plain": [
       "'C:\\\\Users\\\\uhlmann\\\\Documents\\\\urisa_conference_2022\\\\notebooks_tutorial\\\\github_data\\\\RoadCore_FS.shp'"
      ]
     },
     "execution_count": 8,
     "metadata": {},
     "output_type": "execute_result"
    }
   ],
   "source": [
    "# Cell 5: Incorrect File Path\n",
    "# FYI, we need to fix this path/to/RoadCore_FS in the dataframe before proceeding\n",
    "df.loc['RoadCore_FS', 'DATA_LOCATION']"
   ]
  },
  {
   "cell_type": "code",
   "execution_count": 3,
   "metadata": {},
   "outputs": [],
   "source": [
    "# Cell 6: Fix Path the hard way \n",
    "# OR - you could also skip this cell and simply replace DATA_LOCATION for RoadCore_FS in csv \n",
    "# to the path/to/your/notebooks_tutorial/git_data/RoadCore_FS.shp\n",
    "# and rerun cell 1) to reload the dataframe (df)\n",
    "\n",
    "zachs_git_dir = r'C:\\Users\\uhlmann\\Documents\\urisa_conference_2022\\notebooks_tutorial'\n",
    "\n",
    "# replace paths in dataframe\n",
    "indices = copy.copy(df.index)\n",
    "fp_orig = df.loc[indices, 'DATA_LOCATION']\n",
    "fp_fixed = []\n",
    "for fp in fp_orig:\n",
    "    try:\n",
    "        fp_fixed.append(fp.replace(zachs_git_dir, user_git_dir))\n",
    "    # four_corners_fire_perim has no DATA_LOCATION; except clause will handle\n",
    "    except AttributeError:\n",
    "        fp_fixed.append('')\n",
    "df['DATA_LOCATION'] = fp_fixed\n",
    "\n",
    "# SEE! now the path/to/RoadCore_FS.shp is corrected for your file system\n",
    "# If it's NOT, check the path in Cell 3 again.  Make sure you use forward slashes (\\)\n",
    "df.loc['RoadCore_FS', 'DATA_LOCATION']"
   ]
  },
  {
   "cell_type": "code",
   "execution_count": 4,
   "metadata": {},
   "outputs": [],
   "source": [
    "# Cell 7: Dictionary\n",
    "# Dictionary for code readability later\n",
    "# REPLACE path/to/gdb.gdb with path/to/gdb.gdb on your directory/computer:\n",
    "# key:val = 'urisa_presentation_gdb': 'path/to/gdb'\n",
    "fp_gdb = os.path.join(user_git_dir, 'four_corners_morels/four_corners_morels.gdb')\n",
    "path_dict = {'four_corners_morels_gdb':fp_gdb}\n",
    "# Print dictionary for inspection\n",
    "path_dict"
   ]
  },
  {
   "cell_type": "code",
   "execution_count": 12,
   "metadata": {},
   "outputs": [],
   "source": [
    "# Cell 8: Arguments for copy fc\n",
    "# copy feature from TOC (table of contents)\n",
    "# NOTE: select 4 corners fire from att table!\n",
    "feat_in = 'FH_Perimeter'\n",
    "index = 'four_corners_fire_perim'\n",
    "gdb_target_str = df.loc[index, 'MOVE_LOCATION']\n",
    "# use key: gdb_target_str to get path/to/gdb value from dictionary\n",
    "gdb_target = path_dict[gdb_target_str]\n",
    "dset_name = df.loc[index, 'MOVE_LOCATION_DSET']\n",
    "dir_target = os.path.join(gdb_target, dset_name)\n",
    "dir_target\n",
    "fname = copy.copy(index)"
   ]
  },
  {
   "cell_type": "code",
   "execution_count": 17,
   "metadata": {},
   "outputs": [],
   "source": [
    "# Cell 9: CREATE DATASETs - agency, analysis\n",
    "# Open and enter Notebook titled \"basics\" and create datasets by running all cells in order\n",
    "# Follow instructions therein as we will create TWO datasets: Agency and Analysis"
   ]
  },
  {
   "cell_type": "code",
   "execution_count": 5,
   "metadata": {},
   "outputs": [],
   "source": [
    "# Cell 10: Create new FC\n",
    "# Create new FC in agency dset with JUST Four Corners fire feature (not all ~140 fire boundaries)\n",
    "# IMPORTANT: From FH_Perimeter (feat_in) feature class, select 4 corners fire from attribute table(!!)\n",
    "# prior to running final line --> arcpy.FeatureClass...\n",
    "# Note - feature = FID 143\n",
    "\n",
    "print('FC TO COPY: ', feat_in)\n",
    "print('COPY LOCATION: ', dir_target)\n",
    "print('FEATURE CLASS NAME OUT: ', fname)\n",
    "\n",
    "# # b) Once arguments are confirmed, uncomment below line and run.  \n",
    "# # To uncomment press \"Ctl + /\" or simply erase the #\n",
    "arcpy.FeatureClassToFeatureClass_conversion(feat_in, dir_target, fname)"
   ]
  },
  {
   "cell_type": "code",
   "execution_count": null,
   "metadata": {},
   "outputs": [],
   "source": [
    "# Cell 11: Clean up map\n",
    "# Remove FH_Perimeter from TOC"
   ]
  },
  {
   "cell_type": "code",
   "execution_count": 17,
   "metadata": {},
   "outputs": [],
   "source": [
    "# Cell 12: Set values to DataFrame\n",
    "# since we copied the fc to our project gdb, let's add the updated path to dataframe\n",
    "df.loc[index, 'DATA_LOCATION'] = os.path.join(dir_target, fname)"
   ]
  },
  {
   "cell_type": "code",
   "execution_count": 18,
   "metadata": {},
   "outputs": [],
   "source": [
    "# Cell 13: Arguments for copy Roads FC\n",
    "# copy features from file path in DataFrame to pro project gdb\n",
    "index = 'RoadCore_FS'\n",
    "feat_in = df.loc[index,'DATA_LOCATION']\n",
    "gdb_target_str = df.loc[index, 'MOVE_LOCATION']\n",
    "gdb_target = path_dict[gdb_target_str]\n",
    "dset_name = df.loc[index, 'MOVE_LOCATION_DSET']\n",
    "dir_target = os.path.join(gdb_target, dset_name)\n",
    "dir_target\n",
    "fname = copy.copy(index)"
   ]
  },
  {
   "cell_type": "code",
   "execution_count": 6,
   "metadata": {},
   "outputs": [],
   "source": [
    "# Cell 14: Copy roads feature class to Pro gdb\n",
    "print('FC TO COPY: ', feat_in)\n",
    "print('COPY LOCATION: ', dir_target)\n",
    "print('FEATURE CLASS NAME OUT: ', fname)\n",
    "\n",
    "# # b) Once arguments are confirmed, uncomment and run\n",
    "arcpy.FeatureClassToFeatureClass_conversion(feat_in, dir_target, fname)"
   ]
  },
  {
   "cell_type": "code",
   "execution_count": 20,
   "metadata": {},
   "outputs": [],
   "source": [
    "# Cell 15: Set values to DataFrame\n",
    "# save data location original to dataframe\n",
    "df.loc[index,'DATA_LOCATION_ORIGINAL'] = df.loc[index, 'DATA_LOCATION']\n",
    "# since we copied the fc to our project gdb, let's add the updated path to dataframe\n",
    "df.loc[index,'DATA_LOCATION'] = os.path.join(dir_target,fname)"
   ]
  },
  {
   "cell_type": "code",
   "execution_count": 7,
   "metadata": {},
   "outputs": [],
   "source": [
    "# Cell 16) Clip contour polygons to fire boundary\n",
    "fp_in = 'contours_100m_4corners'\n",
    "fp_clip = 'four_corners_fire_perim'\n",
    "index = 'contours_100m_4corners_clipped'\n",
    "fname = copy.copy(index)\n",
    "fp_out = os.path.join(gdb, 'analysis', fname)\n",
    "print('FILE PATH OUT: ', fp_out)\n",
    "\n",
    "# # b) Once arguments are confirmed, uncomment and run\n",
    "arcpy.Clip_analysis(fp_in, fp_clip, fp_out)"
   ]
  },
  {
   "cell_type": "code",
   "execution_count": 23,
   "metadata": {},
   "outputs": [],
   "source": [
    "# Cell 17) Set values to DataFrame\n",
    "df.loc[index,'DATA_LOCATION'] = fp_out\n",
    "\n",
    "# ADD DATA INFO\n",
    "df.loc[index, 'DATE'] = '20221004'\n",
    "df.loc[index, 'SOURCE'] = 'McMillen Jacobs'\n",
    "df.loc[index, 'ABSTRACT'] = 'Contours derived from the USGS National Elevation Dataset 1/3 arc' \\\n",
    "                            ' second n45w117 20220309.  DEM was smoothed with a gaussian filter' \\\n",
    "                            'prior to generating contours.  Contours at 100m elevation band interval.'"
   ]
  },
  {
   "cell_type": "code",
   "execution_count": null,
   "metadata": {},
   "outputs": [],
   "source": [
    "# Cell 18) Clean up map\n",
    "# remove contours_100m_4corners"
   ]
  },
  {
   "cell_type": "code",
   "execution_count": 8,
   "metadata": {},
   "outputs": [],
   "source": [
    "# Cell 19) Inspect dataframe prior to saving.\n",
    "print(df)\n",
    "print('\\nABSTRACT: \\n{}'.format(df.loc[index, 'ABSTRACT']))"
   ]
  },
  {
   "cell_type": "code",
   "execution_count": 29,
   "metadata": {},
   "outputs": [],
   "source": [
    "# 20) Save udpated CSV \n",
    "# NOTE that usually I save directly to original csv - but for repeating, retain original\n",
    "# Saved to notebooks_tutorial directory.  Open and take a look.\n",
    "fp_csv_updated = os.path.join(user_git_dir,r'four_corners_morels_inv_updated.csv')\n",
    "df.to_csv(fp_csv_updated)"
   ]
  }
 ],
 "metadata": {
  "kernelspec": {
   "display_name": "ArcGISPro",
   "language": "Python",
   "name": "python3"
  },
  "language_info": {
   "file_extension": ".py",
   "name": "python",
   "version": "3"
  }
 },
 "nbformat": 4,
 "nbformat_minor": 2
}
